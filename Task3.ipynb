{
 "cells": [
  {
   "cell_type": "markdown",
   "metadata": {},
   "source": [
    "# TASK 1"
   ]
  },
  {
   "cell_type": "code",
   "execution_count": 8,
   "metadata": {},
   "outputs": [
    {
     "name": "stdout",
     "output_type": "stream",
     "text": [
      "44\n"
     ]
    }
   ],
   "source": [
    "class Node:\n",
    "    def __init__(self,value,next_node=None):\n",
    "        self.next_node=None\n",
    "        self.value=value\n",
    "    def get_value(self):\n",
    "        return self.value\n",
    "    def next_node(self):\n",
    "        return self.next_node\n",
    "    def set_next_node(self,next_node):\n",
    "        self.next_node=next_node\n",
    "my_node=Node(44)\n",
    "print(my_node.get_value())"
   ]
  },
  {
   "cell_type": "markdown",
   "metadata": {},
   "source": [
    "# TASK 2 "
   ]
  },
  {
   "cell_type": "code",
   "execution_count": 9,
   "metadata": {},
   "outputs": [],
   "source": [
    "class LinkedList:\n",
    "    def __init__(self,value):\n",
    "        self.value=None\n",
    "        new_node=Node(value)\n",
    "        self.head_node=new_node\n",
    "    def get_head_node(self):\n",
    "        return self.head_node"
   ]
  },
  {
   "cell_type": "markdown",
   "metadata": {},
   "source": [
    "# TASK 3"
   ]
  },
  {
   "cell_type": "code",
   "execution_count": 10,
   "metadata": {},
   "outputs": [
    {
     "name": "stdout",
     "output_type": "stream",
     "text": [
      "6\n",
      "5\n",
      "\n"
     ]
    }
   ],
   "source": [
    "class LinkedList:\n",
    "    def __init__(self,value):\n",
    "        self.value=None\n",
    "        new_node=Node(value)\n",
    "        self.head_node=new_node\n",
    "    def get_head_node(self):\n",
    "        return self.head_node\n",
    "    def insert_beginning(self,new_value):\n",
    "        new_node=Node(new_value)\n",
    "        new_node.next_node=self.head_node\n",
    "        self.head_node=new_node\n",
    "    def stringify_list(self):\n",
    "        cur_node=self.head_node\n",
    "        lstr=''\n",
    "        while cur_node:\n",
    "            lstr += str(cur_node.value)+\"\\n\"\n",
    "            cur_node=cur_node.next_node\n",
    "        return lstr\n",
    "obj=LinkedList(5) \n",
    "obj.insert_beginning(6)\n",
    "print(obj.stringify_list())        "
   ]
  },
  {
   "cell_type": "markdown",
   "metadata": {},
   "source": [
    "# TASK 4 "
   ]
  },
  {
   "cell_type": "code",
   "execution_count": 11,
   "metadata": {},
   "outputs": [],
   "source": [
    "class LinkedList:\n",
    "    def __init__(self,value):\n",
    "        self.value=None\n",
    "        new_node=Node(value)\n",
    "        self.head_node=new_node\n",
    "    def get_head_node(self):\n",
    "        return self.head_node\n",
    "    def insert_beginning(self,new_value):\n",
    "        new_node=Node(new_value)\n",
    "        new_node.next_node=self.head_node\n",
    "        self.head_node=new_node\n",
    "    def stringify_list(self):\n",
    "        cur_node=self.head_node\n",
    "        lstr=''\n",
    "        while cur_node:\n",
    "            lstr += str(cur_node.value)+\"\\n\"\n",
    "            cur_node=cur_node.next_node\n",
    "        return lstr\n",
    "    def remove_node(self,value_to_remove):\n",
    "        current_node=self.head_node\n",
    "        if self.head_node==value_to_remove:\n",
    "            self.head_node=self.head_node.next_node\n",
    "        else:\n",
    "            while current_node:\n",
    "                if current_node.get_next_node().get_value()==value_to_remove:\n",
    "                    current_node.next_node=next_node.get_next_node()\n",
    "                    current_node=None"
   ]
  },
  {
   "cell_type": "markdown",
   "metadata": {},
   "source": [
    "# Overall Submission Final Task"
   ]
  },
  {
   "cell_type": "code",
   "execution_count": 12,
   "metadata": {},
   "outputs": [
    {
     "name": "stdout",
     "output_type": "stream",
     "text": [
      "7\n",
      "6\n",
      "5\n",
      "\n"
     ]
    }
   ],
   "source": [
    "class Node:\n",
    "    def __init__(self,value,next_node=None):\n",
    "        self.next_node=None\n",
    "        self.value=value\n",
    "    def get_value(self):\n",
    "        return self.value\n",
    "    def next_node(self):\n",
    "        return self.next_node\n",
    "    def set_next_node(self,next_node):\n",
    "        self.next_node=next_node\n",
    "\n",
    "class LinkedList:\n",
    "    def __init__(self,value):\n",
    "        self.value=None\n",
    "        new_node=Node(value)\n",
    "        self.head_node=new_node\n",
    "    def get_head_node(self):\n",
    "        return self.head_node\n",
    "    def insert_beginning(self,new_value):\n",
    "        new_node=Node(new_value)\n",
    "        new_node.next_node=self.head_node\n",
    "        self.head_node=new_node\n",
    "    def stringify_list(self):\n",
    "        cur_node=self.head_node\n",
    "        lstr=''\n",
    "        while cur_node:\n",
    "            lstr += str(cur_node.value)+\"\\n\"\n",
    "            cur_node=cur_node.next_node\n",
    "        return lstr\n",
    "    def remove_node(self,value_to_remove):\n",
    "        current_node=self.head_node\n",
    "        if self.head_node.value==value_to_remove:\n",
    "            self.head_node=current_node.next_node\n",
    "        else:\n",
    "            while current_node:\n",
    "                if current_node.next_node().get_value()==value_to_remove:\n",
    "                    current_node.next_node=next_node.next_node()\n",
    "                    current_node=None\n",
    "obj=LinkedList(5) \n",
    "obj.insert_beginning(6)\n",
    "obj.insert_beginning(7)\n",
    "obj.insert_beginning(8)\n",
    "obj.remove_node(8)\n",
    "print(obj.stringify_list())\n"
   ]
  },
  {
   "cell_type": "code",
   "execution_count": null,
   "metadata": {},
   "outputs": [],
   "source": []
  }
 ],
 "metadata": {
  "kernelspec": {
   "display_name": "Python 3",
   "language": "python",
   "name": "python3"
  }
 },
 "nbformat": 4,
 "nbformat_minor": 4
}
