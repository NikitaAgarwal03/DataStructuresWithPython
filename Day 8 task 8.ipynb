{
 "cells": [
  {
   "cell_type": "markdown",
   "metadata": {},
   "source": [
    "# TASK 8"
   ]
  },
  {
   "cell_type": "code",
   "execution_count": 1,
   "metadata": {},
   "outputs": [],
   "source": [
    "def is_bst_satisfied(root):\n",
    "    if checkBST(root, float('-inf'), float('inf')):\n",
    "        return True\n",
    "    else:\n",
    "        return False\n",
    "def checkBST(current, left, right):\n",
    "    if current is None:\n",
    "        return True\n",
    "    if current.data < left or current.data > right:\n",
    "        return False\n",
    "    return checkBST(current.left, left, current.data) and checkBST(current.right, current.data, right)"
   ]
  },
  {
   "cell_type": "markdown",
   "metadata": {},
   "source": [
    "# Check if BST using above function "
   ]
  },
  {
   "cell_type": "code",
   "execution_count": 2,
   "metadata": {},
   "outputs": [
    {
     "name": "stdout",
     "output_type": "stream",
     "text": [
      "False\n"
     ]
    }
   ],
   "source": [
    "class Node(object):\n",
    "    def __init__(self, data):\n",
    "        self.data = data\n",
    "        self.left = None\n",
    "        self.right = None\n",
    "\n",
    "def is_bst_satisfied(root):\n",
    "    if checkBST(root, float('-inf'), float('inf')):\n",
    "        return True\n",
    "    else:\n",
    "        return False\n",
    "def checkBST(current, left, right):\n",
    "    if current is None:\n",
    "        return True\n",
    "    if current.data < left or current.data > right:\n",
    "        return False\n",
    "    return checkBST(current.left, left, current.data) and checkBST(current.right, current.data, right)\n",
    "\n",
    "rootNode = Node(12)\n",
    "rootNode.left = Node(3)\n",
    "rootNode.right = Node(14)\n",
    "rootNode.left.left = Node(1)\n",
    "rootNode.left.right = Node(13)\n",
    "rootNode.right.left = Node(11)\n",
    "rootNode.right.right = Node(15)\n",
    "print(is_bst_satisfied(rootNode))"
   ]
  },
  {
   "cell_type": "code",
   "execution_count": null,
   "metadata": {},
   "outputs": [],
   "source": []
  }
 ],
 "metadata": {
  "kernelspec": {
   "display_name": "Python 3",
   "language": "python",
   "name": "python3"
  },
  "language_info": {
   "codemirror_mode": {
    "name": "ipython",
    "version": 3
   },
   "file_extension": ".py",
   "mimetype": "text/x-python",
   "name": "python",
   "nbconvert_exporter": "python",
   "pygments_lexer": "ipython3",
   "version": "3.7.0b4"
  }
 },
 "nbformat": 4,
 "nbformat_minor": 4
}
