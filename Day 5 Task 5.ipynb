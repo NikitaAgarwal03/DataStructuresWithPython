{
 "cells": [
  {
   "cell_type": "code",
   "execution_count": 1,
   "metadata": {},
   "outputs": [
    {
     "name": "stdout",
     "output_type": "stream",
     "text": [
      "1\n",
      "4\n",
      "2\n",
      "3\n"
     ]
    }
   ],
   "source": [
    "class Node:\n",
    "    def __init__(self, data):\n",
    "        self.data = data\n",
    "        self.next = None\n",
    "        self.prev = None\n",
    "class DoublyLinkedList:\n",
    "    def __init__(self):\n",
    "        self.head = None\n",
    "        \n",
    "    def append(self, data):\n",
    "        if self.head is None:\n",
    "            new_node = Node(data)\n",
    "            new_node.prev = None\n",
    "            self.head = new_node\n",
    "        else:\n",
    "            new_node = Node(data)\n",
    "            cur = self.head\n",
    "            while cur.next:\n",
    "                cur = cur.next\n",
    "            cur.next = new_node\n",
    "            new_node.prev = cur\n",
    "            new_node.next = None\n",
    "        \n",
    "    def print_list(self):\n",
    "        cur = self.head\n",
    "        while cur:\n",
    "            print(cur.data)\n",
    "            cur = cur.next\n",
    "            \n",
    "    def remove_duplicates(self):\n",
    "        pass\n",
    "        cur1 = self.head\n",
    "        while cur1:\n",
    "            val=cur1.data\n",
    "            cur2=cur1.next\n",
    "            while cur2:\n",
    "                if cur2.data==val:\n",
    "                    if(cur2.next==None):\n",
    "                        previous=cur2.prev\n",
    "                        previous.next=None\n",
    "                    else:\n",
    "                        previous=cur2.prev\n",
    "                        nxt=cur2.next\n",
    "                        previous.next=nxt\n",
    "                        nxt.prev=previous\n",
    "                        cur2.prev=None\n",
    "                        cur2.next=None\n",
    "                cur2=cur2.next\n",
    "            cur1=cur1.next\n",
    "dllist = DoublyLinkedList()\n",
    "dllist.append(1)\n",
    "dllist.append(4)\n",
    "dllist.append(2)\n",
    "dllist.append(3)\n",
    "dllist.append(4)\n",
    "dllist.remove_duplicates()\n",
    "dllist.print_list()"
   ]
  },
  {
   "cell_type": "code",
   "execution_count": null,
   "metadata": {},
   "outputs": [],
   "source": []
  }
 ],
 "metadata": {
  "kernelspec": {
   "display_name": "Python 3",
   "language": "python",
   "name": "python3"
  },
  "language_info": {
   "codemirror_mode": {
    "name": "ipython",
    "version": 3
   },
   "file_extension": ".py",
   "mimetype": "text/x-python",
   "name": "python",
   "nbconvert_exporter": "python",
   "pygments_lexer": "ipython3",
   "version": "3.7.0b4"
  }
 },
 "nbformat": 4,
 "nbformat_minor": 4
}
