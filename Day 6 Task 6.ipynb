{
 "cells": [
  {
   "cell_type": "code",
   "execution_count": 1,
   "metadata": {},
   "outputs": [
    {
     "name": "stdout",
     "output_type": "stream",
     "text": [
      "30\n"
     ]
    }
   ],
   "source": [
    "def buy_and_sell_stock_once(prices):\n",
    "    max_profit=[]*len(prices)\n",
    "    for i in range(0,len(prices)-1):\n",
    "        buy=prices[i]\n",
    "        profit=[]*len(prices)\n",
    "        for j in range(i+1,len(prices)):\n",
    "            sell=prices[j]\n",
    "            profit.append(sell-buy)\n",
    "        max_profit.append(max(profit))\n",
    "    return max(max_profit)\n",
    "prices=[310,315,275,295,260,270,290,230,255,250]\n",
    "print(buy_and_sell_stock_once(prices))"
   ]
  },
  {
   "cell_type": "code",
   "execution_count": null,
   "metadata": {},
   "outputs": [],
   "source": []
  }
 ],
 "metadata": {
  "kernelspec": {
   "display_name": "Python 3",
   "language": "python",
   "name": "python3"
  },
  "language_info": {
   "codemirror_mode": {
    "name": "ipython",
    "version": 3
   },
   "file_extension": ".py",
   "mimetype": "text/x-python",
   "name": "python",
   "nbconvert_exporter": "python",
   "pygments_lexer": "ipython3",
   "version": "3.7.0b4"
  }
 },
 "nbformat": 4,
 "nbformat_minor": 4
}
